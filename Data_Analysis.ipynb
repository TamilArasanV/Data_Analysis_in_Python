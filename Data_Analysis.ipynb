{
 "cells": [
  {
   "cell_type": "code",
   "execution_count": 1,
   "id": "8d2c31c4",
   "metadata": {},
   "outputs": [],
   "source": [
    "import pandas as pd\n",
    "import matplotlib.pyplot as plt"
   ]
  },
  {
   "cell_type": "code",
   "execution_count": 21,
   "id": "ea509ef5",
   "metadata": {},
   "outputs": [
    {
     "data": {
      "text/html": [
       "<div>\n",
       "<style scoped>\n",
       "    .dataframe tbody tr th:only-of-type {\n",
       "        vertical-align: middle;\n",
       "    }\n",
       "\n",
       "    .dataframe tbody tr th {\n",
       "        vertical-align: top;\n",
       "    }\n",
       "\n",
       "    .dataframe thead th {\n",
       "        text-align: right;\n",
       "    }\n",
       "</style>\n",
       "<table border=\"1\" class=\"dataframe\">\n",
       "  <thead>\n",
       "    <tr style=\"text-align: right;\">\n",
       "      <th></th>\n",
       "      <th>Invoice ID</th>\n",
       "      <th>Branch</th>\n",
       "      <th>City</th>\n",
       "      <th>Customer type</th>\n",
       "      <th>Gender</th>\n",
       "      <th>Product line</th>\n",
       "      <th>Unit price</th>\n",
       "      <th>Quantity</th>\n",
       "      <th>Tax 5%</th>\n",
       "      <th>Total</th>\n",
       "      <th>Day</th>\n",
       "      <th>Date</th>\n",
       "      <th>Time</th>\n",
       "      <th>Payment</th>\n",
       "      <th>cogs</th>\n",
       "      <th>gross margin percentage</th>\n",
       "      <th>gross income</th>\n",
       "      <th>Rating</th>\n",
       "    </tr>\n",
       "  </thead>\n",
       "  <tbody>\n",
       "    <tr>\n",
       "      <th>0</th>\n",
       "      <td>860-79-0874</td>\n",
       "      <td>C</td>\n",
       "      <td>Naypyitaw</td>\n",
       "      <td>Member</td>\n",
       "      <td>Female</td>\n",
       "      <td>Fashion accessories</td>\n",
       "      <td>99.30</td>\n",
       "      <td>10</td>\n",
       "      <td>49.6500</td>\n",
       "      <td>1042.6500</td>\n",
       "      <td>6</td>\n",
       "      <td>2019-02-15</td>\n",
       "      <td>14:53:00</td>\n",
       "      <td>Credit card</td>\n",
       "      <td>993.00</td>\n",
       "      <td>4.761905</td>\n",
       "      <td>49.6500</td>\n",
       "      <td>6.6</td>\n",
       "    </tr>\n",
       "    <tr>\n",
       "      <th>1</th>\n",
       "      <td>226-31-3081</td>\n",
       "      <td>C</td>\n",
       "      <td>Naypyitaw</td>\n",
       "      <td>Normal</td>\n",
       "      <td>Female</td>\n",
       "      <td>Electronic accessories</td>\n",
       "      <td>15.28</td>\n",
       "      <td>5</td>\n",
       "      <td>3.8200</td>\n",
       "      <td>80.2200</td>\n",
       "      <td>6</td>\n",
       "      <td>2019-03-08</td>\n",
       "      <td>10:29:00</td>\n",
       "      <td>Cash</td>\n",
       "      <td>76.40</td>\n",
       "      <td>4.761905</td>\n",
       "      <td>3.8200</td>\n",
       "      <td>9.6</td>\n",
       "    </tr>\n",
       "    <tr>\n",
       "      <th>2</th>\n",
       "      <td>631-41-3108</td>\n",
       "      <td>A</td>\n",
       "      <td>Yangon</td>\n",
       "      <td>Normal</td>\n",
       "      <td>Male</td>\n",
       "      <td>Home and lifestyle</td>\n",
       "      <td>46.33</td>\n",
       "      <td>7</td>\n",
       "      <td>16.2155</td>\n",
       "      <td>340.5255</td>\n",
       "      <td>1</td>\n",
       "      <td>2019-03-03</td>\n",
       "      <td>13:23:00</td>\n",
       "      <td>Credit card</td>\n",
       "      <td>324.31</td>\n",
       "      <td>4.761905</td>\n",
       "      <td>16.2155</td>\n",
       "      <td>7.4</td>\n",
       "    </tr>\n",
       "    <tr>\n",
       "      <th>3</th>\n",
       "      <td>687-47-8271</td>\n",
       "      <td>A</td>\n",
       "      <td>Yangon</td>\n",
       "      <td>Normal</td>\n",
       "      <td>Male</td>\n",
       "      <td>Fashion accessories</td>\n",
       "      <td>98.98</td>\n",
       "      <td>10</td>\n",
       "      <td>49.4900</td>\n",
       "      <td>1039.2900</td>\n",
       "      <td>6</td>\n",
       "      <td>2019-02-08</td>\n",
       "      <td>16:20:00</td>\n",
       "      <td>Credit card</td>\n",
       "      <td>989.80</td>\n",
       "      <td>4.761905</td>\n",
       "      <td>49.4900</td>\n",
       "      <td>8.7</td>\n",
       "    </tr>\n",
       "    <tr>\n",
       "      <th>4</th>\n",
       "      <td>283-26-5248</td>\n",
       "      <td>C</td>\n",
       "      <td>Naypyitaw</td>\n",
       "      <td>Member</td>\n",
       "      <td>Female</td>\n",
       "      <td>Food and beverages</td>\n",
       "      <td>98.52</td>\n",
       "      <td>10</td>\n",
       "      <td>49.2600</td>\n",
       "      <td>1034.4600</td>\n",
       "      <td>4</td>\n",
       "      <td>2019-01-30</td>\n",
       "      <td>20:23:00</td>\n",
       "      <td>Ewallet</td>\n",
       "      <td>985.20</td>\n",
       "      <td>4.761905</td>\n",
       "      <td>49.2600</td>\n",
       "      <td>4.5</td>\n",
       "    </tr>\n",
       "    <tr>\n",
       "      <th>...</th>\n",
       "      <td>...</td>\n",
       "      <td>...</td>\n",
       "      <td>...</td>\n",
       "      <td>...</td>\n",
       "      <td>...</td>\n",
       "      <td>...</td>\n",
       "      <td>...</td>\n",
       "      <td>...</td>\n",
       "      <td>...</td>\n",
       "      <td>...</td>\n",
       "      <td>...</td>\n",
       "      <td>...</td>\n",
       "      <td>...</td>\n",
       "      <td>...</td>\n",
       "      <td>...</td>\n",
       "      <td>...</td>\n",
       "      <td>...</td>\n",
       "      <td>...</td>\n",
       "    </tr>\n",
       "    <tr>\n",
       "      <th>995</th>\n",
       "      <td>236-86-3015</td>\n",
       "      <td>C</td>\n",
       "      <td>Naypyitaw</td>\n",
       "      <td>Member</td>\n",
       "      <td>Male</td>\n",
       "      <td>Home and lifestyle</td>\n",
       "      <td>13.98</td>\n",
       "      <td>1</td>\n",
       "      <td>0.6990</td>\n",
       "      <td>14.6790</td>\n",
       "      <td>2</td>\n",
       "      <td>2019-02-04</td>\n",
       "      <td>13:38:00</td>\n",
       "      <td>Ewallet</td>\n",
       "      <td>13.98</td>\n",
       "      <td>4.761905</td>\n",
       "      <td>0.6990</td>\n",
       "      <td>9.8</td>\n",
       "    </tr>\n",
       "    <tr>\n",
       "      <th>996</th>\n",
       "      <td>192-98-7397</td>\n",
       "      <td>C</td>\n",
       "      <td>Naypyitaw</td>\n",
       "      <td>Normal</td>\n",
       "      <td>Male</td>\n",
       "      <td>Fashion accessories</td>\n",
       "      <td>12.78</td>\n",
       "      <td>1</td>\n",
       "      <td>0.6390</td>\n",
       "      <td>13.4190</td>\n",
       "      <td>3</td>\n",
       "      <td>2019-01-08</td>\n",
       "      <td>14:11:00</td>\n",
       "      <td>Ewallet</td>\n",
       "      <td>12.78</td>\n",
       "      <td>4.761905</td>\n",
       "      <td>0.6390</td>\n",
       "      <td>9.5</td>\n",
       "    </tr>\n",
       "    <tr>\n",
       "      <th>997</th>\n",
       "      <td>279-62-1445</td>\n",
       "      <td>C</td>\n",
       "      <td>Naypyitaw</td>\n",
       "      <td>Member</td>\n",
       "      <td>Female</td>\n",
       "      <td>Fashion accessories</td>\n",
       "      <td>12.54</td>\n",
       "      <td>1</td>\n",
       "      <td>0.6270</td>\n",
       "      <td>13.1670</td>\n",
       "      <td>5</td>\n",
       "      <td>2019-02-21</td>\n",
       "      <td>12:38:00</td>\n",
       "      <td>Cash</td>\n",
       "      <td>12.54</td>\n",
       "      <td>4.761905</td>\n",
       "      <td>0.6270</td>\n",
       "      <td>8.2</td>\n",
       "    </tr>\n",
       "    <tr>\n",
       "      <th>998</th>\n",
       "      <td>308-39-1707</td>\n",
       "      <td>A</td>\n",
       "      <td>Yangon</td>\n",
       "      <td>Normal</td>\n",
       "      <td>Female</td>\n",
       "      <td>Fashion accessories</td>\n",
       "      <td>12.09</td>\n",
       "      <td>1</td>\n",
       "      <td>0.6045</td>\n",
       "      <td>12.6945</td>\n",
       "      <td>7</td>\n",
       "      <td>2019-01-26</td>\n",
       "      <td>18:19:00</td>\n",
       "      <td>Credit card</td>\n",
       "      <td>12.09</td>\n",
       "      <td>4.761905</td>\n",
       "      <td>0.6045</td>\n",
       "      <td>8.2</td>\n",
       "    </tr>\n",
       "    <tr>\n",
       "      <th>999</th>\n",
       "      <td>784-21-9238</td>\n",
       "      <td>C</td>\n",
       "      <td>Naypyitaw</td>\n",
       "      <td>Member</td>\n",
       "      <td>Male</td>\n",
       "      <td>Sports and travel</td>\n",
       "      <td>10.17</td>\n",
       "      <td>1</td>\n",
       "      <td>0.5085</td>\n",
       "      <td>10.6785</td>\n",
       "      <td>5</td>\n",
       "      <td>2019-02-07</td>\n",
       "      <td>14:15:00</td>\n",
       "      <td>Cash</td>\n",
       "      <td>10.17</td>\n",
       "      <td>4.761905</td>\n",
       "      <td>0.5085</td>\n",
       "      <td>5.9</td>\n",
       "    </tr>\n",
       "  </tbody>\n",
       "</table>\n",
       "<p>1000 rows × 18 columns</p>\n",
       "</div>"
      ],
      "text/plain": [
       "      Invoice ID Branch       City Customer type  Gender  \\\n",
       "0    860-79-0874      C  Naypyitaw        Member  Female   \n",
       "1    226-31-3081      C  Naypyitaw        Normal  Female   \n",
       "2    631-41-3108      A     Yangon        Normal    Male   \n",
       "3    687-47-8271      A     Yangon        Normal    Male   \n",
       "4    283-26-5248      C  Naypyitaw        Member  Female   \n",
       "..           ...    ...        ...           ...     ...   \n",
       "995  236-86-3015      C  Naypyitaw        Member    Male   \n",
       "996  192-98-7397      C  Naypyitaw        Normal    Male   \n",
       "997  279-62-1445      C  Naypyitaw        Member  Female   \n",
       "998  308-39-1707      A     Yangon        Normal  Female   \n",
       "999  784-21-9238      C  Naypyitaw        Member    Male   \n",
       "\n",
       "               Product line  Unit price  Quantity   Tax 5%      Total  Day  \\\n",
       "0       Fashion accessories       99.30        10  49.6500  1042.6500    6   \n",
       "1    Electronic accessories       15.28         5   3.8200    80.2200    6   \n",
       "2        Home and lifestyle       46.33         7  16.2155   340.5255    1   \n",
       "3       Fashion accessories       98.98        10  49.4900  1039.2900    6   \n",
       "4        Food and beverages       98.52        10  49.2600  1034.4600    4   \n",
       "..                      ...         ...       ...      ...        ...  ...   \n",
       "995      Home and lifestyle       13.98         1   0.6990    14.6790    2   \n",
       "996     Fashion accessories       12.78         1   0.6390    13.4190    3   \n",
       "997     Fashion accessories       12.54         1   0.6270    13.1670    5   \n",
       "998     Fashion accessories       12.09         1   0.6045    12.6945    7   \n",
       "999       Sports and travel       10.17         1   0.5085    10.6785    5   \n",
       "\n",
       "          Date      Time      Payment    cogs  gross margin percentage  \\\n",
       "0   2019-02-15  14:53:00  Credit card  993.00                 4.761905   \n",
       "1   2019-03-08  10:29:00         Cash   76.40                 4.761905   \n",
       "2   2019-03-03  13:23:00  Credit card  324.31                 4.761905   \n",
       "3   2019-02-08  16:20:00  Credit card  989.80                 4.761905   \n",
       "4   2019-01-30  20:23:00      Ewallet  985.20                 4.761905   \n",
       "..         ...       ...          ...     ...                      ...   \n",
       "995 2019-02-04  13:38:00      Ewallet   13.98                 4.761905   \n",
       "996 2019-01-08  14:11:00      Ewallet   12.78                 4.761905   \n",
       "997 2019-02-21  12:38:00         Cash   12.54                 4.761905   \n",
       "998 2019-01-26  18:19:00  Credit card   12.09                 4.761905   \n",
       "999 2019-02-07  14:15:00         Cash   10.17                 4.761905   \n",
       "\n",
       "     gross income  Rating  \n",
       "0         49.6500     6.6  \n",
       "1          3.8200     9.6  \n",
       "2         16.2155     7.4  \n",
       "3         49.4900     8.7  \n",
       "4         49.2600     4.5  \n",
       "..            ...     ...  \n",
       "995        0.6990     9.8  \n",
       "996        0.6390     9.5  \n",
       "997        0.6270     8.2  \n",
       "998        0.6045     8.2  \n",
       "999        0.5085     5.9  \n",
       "\n",
       "[1000 rows x 18 columns]"
      ]
     },
     "execution_count": 21,
     "metadata": {},
     "output_type": "execute_result"
    }
   ],
   "source": [
    "ds=pd.read_excel('Data_Analysis_Case_Study_Jun_2021.xlsx')\n",
    "ds"
   ]
  },
  {
   "cell_type": "code",
   "execution_count": 3,
   "id": "d88061db",
   "metadata": {},
   "outputs": [
    {
     "data": {
      "text/plain": [
       "(1000, 18)"
      ]
     },
     "execution_count": 3,
     "metadata": {},
     "output_type": "execute_result"
    }
   ],
   "source": [
    "# 1. Shape\n",
    "ds.shape"
   ]
  },
  {
   "cell_type": "code",
   "execution_count": 4,
   "id": "d608de0b",
   "metadata": {},
   "outputs": [
    {
     "name": "stdout",
     "output_type": "stream",
     "text": [
      "<class 'pandas.core.frame.DataFrame'>\n",
      "RangeIndex: 1000 entries, 0 to 999\n",
      "Data columns (total 18 columns):\n",
      " #   Column                   Non-Null Count  Dtype         \n",
      "---  ------                   --------------  -----         \n",
      " 0   Invoice ID               1000 non-null   object        \n",
      " 1   Branch                   1000 non-null   object        \n",
      " 2   City                     1000 non-null   object        \n",
      " 3   Customer type            1000 non-null   object        \n",
      " 4   Gender                   1000 non-null   object        \n",
      " 5   Product line             1000 non-null   object        \n",
      " 6   Unit price               1000 non-null   float64       \n",
      " 7   Quantity                 1000 non-null   int64         \n",
      " 8   Tax 5%                   1000 non-null   float64       \n",
      " 9   Total                    1000 non-null   float64       \n",
      " 10  Day                      1000 non-null   int64         \n",
      " 11  Date                     1000 non-null   datetime64[ns]\n",
      " 12  Time                     1000 non-null   object        \n",
      " 13  Payment                  1000 non-null   object        \n",
      " 14  cogs                     1000 non-null   float64       \n",
      " 15  gross margin percentage  1000 non-null   float64       \n",
      " 16  gross income             1000 non-null   float64       \n",
      " 17  Rating                   1000 non-null   float64       \n",
      "dtypes: datetime64[ns](1), float64(7), int64(2), object(8)\n",
      "memory usage: 140.8+ KB\n"
     ]
    }
   ],
   "source": [
    "# 1. DataType\n",
    "ds.info()"
   ]
  },
  {
   "cell_type": "code",
   "execution_count": 5,
   "id": "3c78a46d",
   "metadata": {},
   "outputs": [
    {
     "data": {
      "text/plain": [
       "Invoice ID                 0\n",
       "Branch                     0\n",
       "City                       0\n",
       "Customer type              0\n",
       "Gender                     0\n",
       "Product line               0\n",
       "Unit price                 0\n",
       "Quantity                   0\n",
       "Tax 5%                     0\n",
       "Total                      0\n",
       "Day                        0\n",
       "Date                       0\n",
       "Time                       0\n",
       "Payment                    0\n",
       "cogs                       0\n",
       "gross margin percentage    0\n",
       "gross income               0\n",
       "Rating                     0\n",
       "dtype: int64"
      ]
     },
     "execution_count": 5,
     "metadata": {},
     "output_type": "execute_result"
    }
   ],
   "source": [
    "# 1. To check missing values\n",
    "ds.isnull().sum()"
   ]
  },
  {
   "cell_type": "code",
   "execution_count": 6,
   "id": "f9709bf8",
   "metadata": {},
   "outputs": [],
   "source": [
    " # To Replace 1,2,3... as Monday, Tuesday, Wednesday ...\n",
    "ds[\"Day\"].replace(to_replace=[1,2,3,4,5,6,7],value=['Sunday','Monday','Tuesday','Wednesday','Thursday','Friday','Saturday'],inplace=True)"
   ]
  },
  {
   "cell_type": "code",
   "execution_count": 7,
   "id": "3d17851d",
   "metadata": {},
   "outputs": [
    {
     "name": "stdout",
     "output_type": "stream",
     "text": [
      "Total Count of column Branch  :  1000\n",
      "Distinct Count of items in column Branch  : \n",
      " A    340\n",
      "B    332\n",
      "C    328\n",
      "Name: Branch, dtype: int64\n",
      "\n",
      "\n",
      "Total Count of column City  :  1000\n",
      "Distinct Count of items in column City  : \n",
      " Yangon       340\n",
      "Mandalay     332\n",
      "Naypyitaw    328\n",
      "Name: City, dtype: int64\n",
      "\n",
      "\n",
      "Total Count of column Customer type  :  1000\n",
      "Distinct Count of items in column Customer type  : \n",
      " Member    501\n",
      "Normal    499\n",
      "Name: Customer type, dtype: int64\n",
      "\n",
      "\n",
      "Total Count of column Gender  :  1000\n",
      "Distinct Count of items in column Gender  : \n",
      " Female    501\n",
      "Male      499\n",
      "Name: Gender, dtype: int64\n",
      "\n",
      "\n",
      "Total Count of column Product line  :  1000\n",
      "Distinct Count of items in column Product line  : \n",
      " Fashion accessories       178\n",
      "Food and beverages        174\n",
      "Electronic accessories    170\n",
      "Sports and travel         166\n",
      "Home and lifestyle        160\n",
      "Health and beauty         152\n",
      "Name: Product line, dtype: int64\n",
      "\n",
      "\n",
      "Total Count of column Day  :  1000\n",
      "Distinct Count of items in column Day  : \n",
      " Saturday     164\n",
      "Tuesday      158\n",
      "Wednesday    143\n",
      "Friday       139\n",
      "Thursday     138\n",
      "Sunday       133\n",
      "Monday       125\n",
      "Name: Day, dtype: int64\n",
      "\n",
      "\n",
      "Total Count of column Payment  :  1000\n",
      "Distinct Count of items in column Payment  : \n",
      " Ewallet        345\n",
      "Cash           344\n",
      "Credit card    311\n",
      "Name: Payment, dtype: int64\n",
      "\n",
      "\n"
     ]
    }
   ],
   "source": [
    "# 2. To count items in columns\n",
    "col_name=['Branch','City','Customer type','Gender','Product line','Day','Payment']\n",
    "for i in col_name:\n",
    "    print(\"Total Count of column\",i,\" : \",ds[i].value_counts().sum())\n",
    "    print(\"Distinct Count of items in column\",i,\" : \\n\",ds[i].value_counts())\n",
    "    print('\\n')"
   ]
  },
  {
   "cell_type": "code",
   "execution_count": 8,
   "id": "c4b836cc",
   "metadata": {},
   "outputs": [
    {
     "name": "stdout",
     "output_type": "stream",
     "text": [
      "Total Sale Amount is : Rs. 322966.75\n",
      "\n",
      "% Contributed by men is  0.499 % and Amount is Rs. 158253.71\n",
      "\n",
      "% Contributed by wpmen is  0.501 % and Amount is Rs. 164713.04\n"
     ]
    }
   ],
   "source": [
    "# 3. Total Sale Amount and % of contribution\n",
    "print(\"Total Sale Amount is : Rs. {:.2f}\".format(ds['Total'].sum()))\n",
    "print(\"\\n% Contributed by men is \",499/1000,\"% and Amount is Rs. {:.2f}\".format((ds['Total'].sum())*0.49))\n",
    "print(\"\\n% Contributed by wpmen is \",501/1000,\"% and Amount is Rs. {:.2f}\".format((ds['Total'].sum())*0.51))"
   ]
  },
  {
   "cell_type": "code",
   "execution_count": 9,
   "id": "3cfc5bf6",
   "metadata": {},
   "outputs": [
    {
     "data": {
      "text/html": [
       "<div>\n",
       "<style scoped>\n",
       "    .dataframe tbody tr th:only-of-type {\n",
       "        vertical-align: middle;\n",
       "    }\n",
       "\n",
       "    .dataframe tbody tr th {\n",
       "        vertical-align: top;\n",
       "    }\n",
       "\n",
       "    .dataframe thead th {\n",
       "        text-align: right;\n",
       "    }\n",
       "</style>\n",
       "<table border=\"1\" class=\"dataframe\">\n",
       "  <thead>\n",
       "    <tr style=\"text-align: right;\">\n",
       "      <th></th>\n",
       "      <th></th>\n",
       "    </tr>\n",
       "    <tr>\n",
       "      <th>Branch</th>\n",
       "      <th>City</th>\n",
       "    </tr>\n",
       "  </thead>\n",
       "  <tbody>\n",
       "    <tr>\n",
       "      <th>A</th>\n",
       "      <th>Yangon</th>\n",
       "    </tr>\n",
       "    <tr>\n",
       "      <th>B</th>\n",
       "      <th>Mandalay</th>\n",
       "    </tr>\n",
       "    <tr>\n",
       "      <th>C</th>\n",
       "      <th>Naypyitaw</th>\n",
       "    </tr>\n",
       "  </tbody>\n",
       "</table>\n",
       "</div>"
      ],
      "text/plain": [
       "Empty DataFrame\n",
       "Columns: []\n",
       "Index: [(A, Yangon), (B, Mandalay), (C, Naypyitaw)]"
      ]
     },
     "execution_count": 9,
     "metadata": {},
     "output_type": "execute_result"
    }
   ],
   "source": [
    "# 4. Branch location in city\n",
    "ds_groupby_1=ds[['Branch','City']]\n",
    "ds_branch=ds_groupby_1.groupby(['Branch','City']).sum()\n",
    "ds_branch"
   ]
  },
  {
   "cell_type": "code",
   "execution_count": 10,
   "id": "c81b6f5c",
   "metadata": {},
   "outputs": [
    {
     "data": {
      "text/html": [
       "<div>\n",
       "<style scoped>\n",
       "    .dataframe tbody tr th:only-of-type {\n",
       "        vertical-align: middle;\n",
       "    }\n",
       "\n",
       "    .dataframe tbody tr th {\n",
       "        vertical-align: top;\n",
       "    }\n",
       "\n",
       "    .dataframe thead th {\n",
       "        text-align: right;\n",
       "    }\n",
       "</style>\n",
       "<table border=\"1\" class=\"dataframe\">\n",
       "  <thead>\n",
       "    <tr style=\"text-align: right;\">\n",
       "      <th></th>\n",
       "      <th>Total</th>\n",
       "    </tr>\n",
       "    <tr>\n",
       "      <th>City</th>\n",
       "      <th></th>\n",
       "    </tr>\n",
       "  </thead>\n",
       "  <tbody>\n",
       "    <tr>\n",
       "      <th>Mandalay</th>\n",
       "      <td>106197.6720</td>\n",
       "    </tr>\n",
       "    <tr>\n",
       "      <th>Naypyitaw</th>\n",
       "      <td>110568.7065</td>\n",
       "    </tr>\n",
       "    <tr>\n",
       "      <th>Yangon</th>\n",
       "      <td>106200.3705</td>\n",
       "    </tr>\n",
       "  </tbody>\n",
       "</table>\n",
       "</div>"
      ],
      "text/plain": [
       "                 Total\n",
       "City                  \n",
       "Mandalay   106197.6720\n",
       "Naypyitaw  110568.7065\n",
       "Yangon     106200.3705"
      ]
     },
     "execution_count": 10,
     "metadata": {},
     "output_type": "execute_result"
    }
   ],
   "source": [
    "# 5. City wise sales amount & max. and min.\n",
    "ds_groupby_2=ds[['City','Total']]\n",
    "ds_city_sale=ds_groupby_2.groupby(by='City').sum()\n",
    "ds_city_sale"
   ]
  },
  {
   "cell_type": "code",
   "execution_count": 11,
   "id": "0e73eda5",
   "metadata": {},
   "outputs": [
    {
     "data": {
      "text/plain": [
       "Total    110568.7065\n",
       "dtype: float64"
      ]
     },
     "execution_count": 11,
     "metadata": {},
     "output_type": "execute_result"
    }
   ],
   "source": [
    "# 5. City with maximum sale\n",
    "ds_city_sale.max()"
   ]
  },
  {
   "cell_type": "code",
   "execution_count": 12,
   "id": "23b613be",
   "metadata": {},
   "outputs": [
    {
     "data": {
      "text/plain": [
       "Total    106197.672\n",
       "dtype: float64"
      ]
     },
     "execution_count": 12,
     "metadata": {},
     "output_type": "execute_result"
    }
   ],
   "source": [
    "# 5. City with minimum sale\n",
    "ds_city_sale.min()"
   ]
  },
  {
   "cell_type": "code",
   "execution_count": 13,
   "id": "d0fcd953",
   "metadata": {},
   "outputs": [
    {
     "data": {
      "text/plain": [
       "Gender  Payment    \n",
       "Female  Cash           178\n",
       "        Credit card    163\n",
       "        Ewallet        160\n",
       "Male    Cash           166\n",
       "        Credit card    148\n",
       "        Ewallet        185\n",
       "dtype: int64"
      ]
     },
     "execution_count": 13,
     "metadata": {},
     "output_type": "execute_result"
    }
   ],
   "source": [
    "# 6. Maximum Payment method used by Male and Female\n",
    "ds_groupby_3=ds[['Gender','Payment']].value_counts()\n",
    "ds_Max_Payment=ds_groupby_3.groupby(['Gender','Payment']).sum()\n",
    "ds_Max_Payment"
   ]
  },
  {
   "cell_type": "code",
   "execution_count": 14,
   "id": "e4c521bd",
   "metadata": {},
   "outputs": [
    {
     "data": {
      "text/html": [
       "<div>\n",
       "<style scoped>\n",
       "    .dataframe tbody tr th:only-of-type {\n",
       "        vertical-align: middle;\n",
       "    }\n",
       "\n",
       "    .dataframe tbody tr th {\n",
       "        vertical-align: top;\n",
       "    }\n",
       "\n",
       "    .dataframe thead th {\n",
       "        text-align: right;\n",
       "    }\n",
       "</style>\n",
       "<table border=\"1\" class=\"dataframe\">\n",
       "  <thead>\n",
       "    <tr style=\"text-align: right;\">\n",
       "      <th></th>\n",
       "      <th>Total</th>\n",
       "    </tr>\n",
       "    <tr>\n",
       "      <th>Day</th>\n",
       "      <th></th>\n",
       "    </tr>\n",
       "  </thead>\n",
       "  <tbody>\n",
       "    <tr>\n",
       "      <th>Friday</th>\n",
       "      <td>43926.3405</td>\n",
       "    </tr>\n",
       "    <tr>\n",
       "      <th>Monday</th>\n",
       "      <td>37899.0780</td>\n",
       "    </tr>\n",
       "    <tr>\n",
       "      <th>Saturday</th>\n",
       "      <td>56120.8095</td>\n",
       "    </tr>\n",
       "    <tr>\n",
       "      <th>Sunday</th>\n",
       "      <td>44457.8925</td>\n",
       "    </tr>\n",
       "    <tr>\n",
       "      <th>Thursday</th>\n",
       "      <td>45349.2480</td>\n",
       "    </tr>\n",
       "    <tr>\n",
       "      <th>Tuesday</th>\n",
       "      <td>51482.2455</td>\n",
       "    </tr>\n",
       "    <tr>\n",
       "      <th>Wednesday</th>\n",
       "      <td>43731.1350</td>\n",
       "    </tr>\n",
       "  </tbody>\n",
       "</table>\n",
       "</div>"
      ],
      "text/plain": [
       "                Total\n",
       "Day                  \n",
       "Friday     43926.3405\n",
       "Monday     37899.0780\n",
       "Saturday   56120.8095\n",
       "Sunday     44457.8925\n",
       "Thursday   45349.2480\n",
       "Tuesday    51482.2455\n",
       "Wednesday  43731.1350"
      ]
     },
     "execution_count": 14,
     "metadata": {},
     "output_type": "execute_result"
    }
   ],
   "source": [
    "# 7. Day wise sale\n",
    "ds_groupby_4=ds[['Day','Total']]\n",
    "ds_day_sale=ds_groupby_4.groupby(by='Day').sum()\n",
    "ds_day_sale"
   ]
  },
  {
   "cell_type": "code",
   "execution_count": 15,
   "id": "9ad083fc",
   "metadata": {},
   "outputs": [
    {
     "data": {
      "text/plain": [
       "Total    56120.8095\n",
       "dtype: float64"
      ]
     },
     "execution_count": 15,
     "metadata": {},
     "output_type": "execute_result"
    }
   ],
   "source": [
    "# 7. Maximum sale in Day\n",
    "ds_day_sale.max()"
   ]
  },
  {
   "cell_type": "code",
   "execution_count": 16,
   "id": "228f533f",
   "metadata": {},
   "outputs": [
    {
     "name": "stdout",
     "output_type": "stream",
     "text": [
      "City wise Total Tax : \n",
      "\n",
      "              Tax 5%\n",
      "City                \n",
      "Mandalay   5057.0320\n",
      "Naypyitaw  5265.1765\n",
      "Yangon     5057.1605\n",
      "\n",
      " The Total amount of tax collected in all cities is Rs.  Tax 5%    15379.369\n",
      "dtype: float64\n"
     ]
    }
   ],
   "source": [
    "# 8. Total amount of tax collected by cities\n",
    "ds_groupby_5=ds[['City','Tax 5%']]\n",
    "ds_tax=ds_groupby_5.groupby(by='City').sum()\n",
    "print(\"City wise Total Tax : \\n\")\n",
    "print(ds_tax)\n",
    "print('\\n The Total amount of tax collected in all cities is Rs. ',ds_tax.sum())"
   ]
  },
  {
   "cell_type": "code",
   "execution_count": 17,
   "id": "64bd504b",
   "metadata": {},
   "outputs": [
    {
     "data": {
      "text/plain": [
       "Tax 5%    5265.1765\n",
       "dtype: float64"
      ]
     },
     "execution_count": 17,
     "metadata": {},
     "output_type": "execute_result"
    }
   ],
   "source": [
    "# 8. City paid Highest tax \n",
    "ds_tax.max()"
   ]
  },
  {
   "cell_type": "code",
   "execution_count": 18,
   "id": "e2a10db5",
   "metadata": {},
   "outputs": [
    {
     "data": {
      "text/plain": [
       "Tax 5%    5057.032\n",
       "dtype: float64"
      ]
     },
     "execution_count": 18,
     "metadata": {},
     "output_type": "execute_result"
    }
   ],
   "source": [
    "# 8. City paid lowest tax\n",
    "ds_tax.min()"
   ]
  },
  {
   "cell_type": "code",
   "execution_count": 19,
   "id": "2e21c3b9",
   "metadata": {},
   "outputs": [
    {
     "data": {
      "text/plain": [
       "<AxesSubplot:>"
      ]
     },
     "execution_count": 19,
     "metadata": {},
     "output_type": "execute_result"
    },
    {
     "data": {
      "image/png": "[encoded data removed]",
      "text/plain": [
       "<Figure size 432x288 with 1 Axes>"
      ]
     },
     "metadata": {
      "needs_background": "light"
     },
     "output_type": "display_data"
    }
   ],
   "source": [
    "# 9. Analysis_1\n",
    "ds_analysis_1=ds['Product line']\n",
    "ds_analysis_1.value_counts().plot(kind='bar')"
   ]
  },
  {
   "cell_type": "markdown",
   "id": "f977fdcb",
   "metadata": {},
   "source": [
    "From the above analysis,\n",
    "    It shows that, more people spent in \" Fashion accessories \" And less people spent in \" Health and beauty \"."
   ]
  },
  {
   "cell_type": "code",
   "execution_count": 20,
   "id": "585b4d1d",
   "metadata": {},
   "outputs": [
    {
     "data": {
      "text/plain": [
       "<AxesSubplot:>"
      ]
     },
     "execution_count": 20,
     "metadata": {},
     "output_type": "execute_result"
    },
    {
     "data": {
      "image/png": "[encoded data removed]",
      "text/plain": [
       "<Figure size 432x288 with 1 Axes>"
      ]
     },
     "metadata": {
      "needs_background": "light"
     },
     "output_type": "display_data"
    }
   ],
   "source": [
    "# 10. Analysis_2\n",
    "ds_analysis_2=ds['Payment']\n",
    "ds_analysis_2.value_counts().plot(kind='bar')"
   ]
  },
  {
   "cell_type": "markdown",
   "id": "92b016a1",
   "metadata": {},
   "source": [
    "From the above analysis,\n",
    "    It shows that, more people bought items using \" Ewallet \" And less people bought items using \" Credit card \"."
   ]
  },
  {
   "cell_type": "code",
   "execution_count": null,
   "id": "9dfc2718",
   "metadata": {},
   "outputs": [],
   "source": []
  }
 ],
 "metadata": {
  "kernelspec": {
   "display_name": "Python 3",
   "language": "python",
   "name": "python3"
  },
  "language_info": {
   "codemirror_mode": {
    "name": "ipython",
    "version": 3
   },
   "file_extension": ".py",
   "mimetype": "text/x-python",
   "name": "python",
   "nbconvert_exporter": "python",
   "pygments_lexer": "ipython3",
   "version": "3.8.8"
  }
 },
 "nbformat": 4,
 "nbformat_minor": 5
}
